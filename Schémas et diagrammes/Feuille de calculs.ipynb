{
 "cells": [
  {
   "cell_type": "code",
   "execution_count": 1,
   "metadata": {},
   "outputs": [],
   "source": [
    "from math import *"
   ]
  },
  {
   "cell_type": "code",
   "execution_count": 2,
   "metadata": {},
   "outputs": [],
   "source": [
    "def tpm(vitesse, rayon):\n",
    "    tpm = (30*vitesse)/(rayon * pi)\n",
    "    tpm = round(tpm)\n",
    "    print(\"La roue devra faire\",tpm,\"tours par minute\")"
   ]
  },
  {
   "cell_type": "code",
   "execution_count": 4,
   "metadata": {},
   "outputs": [],
   "source": [
    "def Croue(masse, accélération,rayon):\n",
    "    Croue = masse * accélération * rayon\n",
    "    Croue = round(Croue,3)\n",
    "    print(\"La roue devra avoir un couple de\",Croue,\"Nm lors de la phase d'accélération.\")"
   ]
  },
  {
   "cell_type": "code",
   "execution_count": 6,
   "metadata": {},
   "outputs": [],
   "source": [
    "def Proue(Croue,tpm):\n",
    "    Proue = Croue * tpm\n",
    "    Proue = round(Proue,2)\n",
    "    print(\"La roue devra avoir une puissance de\",Proue,\"W lors de la phase d'accélération.\")"
   ]
  },
  {
   "cell_type": "code",
   "execution_count": 3,
   "metadata": {},
   "outputs": [
    {
     "name": "stdout",
     "output_type": "stream",
     "text": [
      "La roue devra faire 265 tours par minute\n"
     ]
    }
   ],
   "source": [
    "tpm(2.22, 0.08)"
   ]
  },
  {
   "cell_type": "code",
   "execution_count": 5,
   "metadata": {},
   "outputs": [
    {
     "name": "stdout",
     "output_type": "stream",
     "text": [
      "La roue devra avoir un couple de 1.776 Nm lors de la phase d'accélération.\n"
     ]
    }
   ],
   "source": [
    "Croue(50,0.444,0.08)"
   ]
  },
  {
   "cell_type": "code",
   "execution_count": 10,
   "metadata": {},
   "outputs": [
    {
     "name": "stdout",
     "output_type": "stream",
     "text": [
      "La roue devra avoir une puissance de 470.64 W lors de la phase d'accélération.\n"
     ]
    }
   ],
   "source": [
    "Proue(1.776,265)"
   ]
  }
 ],
 "metadata": {
  "kernelspec": {
   "display_name": "Python 3",
   "language": "python",
   "name": "python3"
  },
  "language_info": {
   "codemirror_mode": {
    "name": "ipython",
    "version": 3
   },
   "file_extension": ".py",
   "mimetype": "text/x-python",
   "name": "python",
   "nbconvert_exporter": "python",
   "pygments_lexer": "ipython3",
   "version": "3.11.3"
  },
  "orig_nbformat": 4
 },
 "nbformat": 4,
 "nbformat_minor": 2
}
